{
  "nbformat": 4,
  "nbformat_minor": 0,
  "metadata": {
    "colab": {
      "name": "MA_Crossover.ipynb",
      "provenance": [],
      "authorship_tag": "ABX9TyMLNb8y2nbyZPqGFEFTZTip",
      "include_colab_link": true
    },
    "kernelspec": {
      "name": "python3",
      "display_name": "Python 3"
    },
    "language_info": {
      "name": "python"
    }
  },
  "cells": [
    {
      "cell_type": "markdown",
      "metadata": {
        "id": "view-in-github",
        "colab_type": "text"
      },
      "source": [
        "<a href=\"https://colab.research.google.com/github/MBENALLA/sma_crossover/blob/main/MA_Crossover.ipynb\" target=\"_parent\"><img src=\"https://colab.research.google.com/assets/colab-badge.svg\" alt=\"Open In Colab\"/></a>"
      ]
    },
    {
      "cell_type": "code",
      "execution_count": 3,
      "metadata": {
        "id": "Fz2UnlyC4KVe"
      },
      "outputs": [],
      "source": [
        "import pandas as pd\n",
        "from binance.client import Client\n",
        "from sqlalchemy import create_engine\n",
        "import numpy as np\n",
        "import matplotlib.pyplot as plt"
      ]
    },
    {
      "cell_type": "code",
      "source": [
        "client = Client()"
      ],
      "metadata": {
        "id": "0qSy4_No4zOF"
      },
      "execution_count": 4,
      "outputs": []
    },
    {
      "cell_type": "code",
      "source": [
        "def get_data(coin, lookback):\n",
        "    df = pd.DataFrame(client.get_historical_klines(coin,\n",
        "                                                   Client.KLINE_INTERVAL_5MINUTE,\n",
        "                                                   str(lookback) + ' days ago UTC'))\n",
        "    closes = pd.DataFrame(df[4])\n",
        "    closes.columns = ['Close']\n",
        "    closes.Close = closes.Close.astype(float)\n",
        "    return closes"
      ],
      "metadata": {
        "id": "Hru7qyMw40gc"
      },
      "execution_count": 5,
      "outputs": []
    },
    {
      "cell_type": "code",
      "source": [
        "engine = create_engine('sqlite:///backtest_db.db')\n",
        "engine.execute(\"DELETE FROM DOTUSDT\")\n",
        "get_data('DOTUSDT', 160).to_sql('DOTUSDT', engine, if_exists='append', index=False)\n",
        "data = pd.read_sql('DOTUSDT', engine)"
      ],
      "metadata": {
        "id": "e9D-P0Cw400F"
      },
      "execution_count": 11,
      "outputs": []
    },
    {
      "cell_type": "code",
      "source": [
        "def storming(df):\n",
        "    df = df.copy()\n",
        "    df['Short_ma'] = df.Close.rolling(50).mean()\n",
        "    df['Long_ma'] = df.Close.rolling(200).mean()\n",
        "    df['In_position'] = np.where(df['Short_ma'] > df['Long_ma'], 1, 0)\n",
        "    df['R_position'] = df['In_position'].diff() * df['Close']\n",
        "    df.dropna(inplace=True)\n",
        "    return df"
      ],
      "metadata": {
        "id": "3XFmKHQf404r"
      },
      "execution_count": 13,
      "outputs": []
    },
    {
      "cell_type": "code",
      "source": [
        "def real_value(df):\n",
        "    df1 = storming(df)[storming(df).R_position != 0]\n",
        "    df1['ROC'] = np.absolute(df1.R_position).pct_change() * df1.In_position.shift(1)\n",
        "    df1 = df1[np.absolute(df1.ROC) != 0]\n",
        "    df1.dropna(inplace=True)\n",
        "    nb_trades = len(df1)\n",
        "    performance = df1.ROC.sum()\n",
        "    return round(performance, 5), nb_trades"
      ],
      "metadata": {
        "id": "FsQK3ozy407Y"
      },
      "execution_count": 9,
      "outputs": []
    },
    {
      "cell_type": "code",
      "source": [
        "perf, nb_trade = real_value(data)\n",
        "\n",
        "trading_fees = nb_trade * 2 * 0.00075\n",
        "print(perf, nb_trade, round(trading_fees, 5))\n",
        "print((perf-trading_fees)*100, '%')\n",
        "df2 = storming(data)\n",
        "\n",
        "\n",
        "# fig, ax = plt.subplots(figsize=(10, 20))\n",
        "# ax2 = ax.twinx()\n",
        "# ax.plot(df2[['Close', 'Short_ma', 'Long_ma']])\n",
        "# ax2.plot(df2['In_position'], color='black')\n",
        "# plt.show()"
      ],
      "metadata": {
        "colab": {
          "base_uri": "https://localhost:8080/"
        },
        "id": "H6M_u7GW5Hn8",
        "outputId": "be770116-304f-4f5a-a4f6-ffc567ee3c62"
      },
      "execution_count": 14,
      "outputs": [
        {
          "output_type": "stream",
          "name": "stdout",
          "text": [
            "0.14873 155 0.2325\n",
            "-8.377 %\n"
          ]
        }
      ]
    }
  ]
}